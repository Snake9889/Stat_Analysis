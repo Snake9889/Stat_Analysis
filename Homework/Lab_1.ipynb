{
 "cells": [
  {
   "cell_type": "code",
   "execution_count": 177,
   "id": "modern-mouse",
   "metadata": {},
   "outputs": [],
   "source": [
    "import numpy as np\n",
    "import pandas as pd\n",
    "import matplotlib.pyplot as plt\n",
    "from sklearn import linear_model\n",
    "\n",
    "%matplotlib inline"
   ]
  },
  {
   "cell_type": "code",
   "execution_count": 183,
   "id": "cardiac-minneapolis",
   "metadata": {},
   "outputs": [
    {
     "name": "stdout",
     "output_type": "stream",
     "text": [
      "      Алгебра  Геометрия  Информатика  История  География  Экономика  \\\n",
      "0          36         42           38       32         88         27   \n",
      "1           0          0            0        0          0          6   \n",
      "2          76         78           91       72         88         75   \n",
      "3           0          0           18        0          3         23   \n",
      "4          90         95          100       98        100        100   \n",
      "...       ...        ...          ...      ...        ...        ...   \n",
      "1274      100         65           81      100        100        100   \n",
      "1275       69         52           71       42         60         47   \n",
      "1276       43         45           39       32         48         27   \n",
      "1277      100         93          100      100        100        100   \n",
      "1278       49         36           40       45         31         46   \n",
      "\n",
      "      Биология  Физика  Химия  Обществознание  Русский  Литература  \\\n",
      "0           61      79     54              48       48          45   \n",
      "1           18       0      0               0       18          16   \n",
      "2           84      72     75              67       64          70   \n",
      "3            9      29      0               9        0           0   \n",
      "4           90      96    100              88       90          87   \n",
      "...        ...     ...    ...             ...      ...         ...   \n",
      "1274       100      89    100              85       99          84   \n",
      "1275        41      47     94              51       46          51   \n",
      "1276        38      27     34              35       26          46   \n",
      "1277        98     100    100             100      100         100   \n",
      "1278        40      53     34              41       46          36   \n",
      "\n",
      "      Физкультура  Труд  Музыка  ИЗО  Английский  северный  центральный  южный  \n",
      "0              52    62      60   55          80         1            0      0  \n",
      "1              13    41       0    0           0         1            0      0  \n",
      "2              51    84      63   67          75         0            0      1  \n",
      "3               0     2      15    0           0         1            0      0  \n",
      "4             100    98     100   89         100         1            0      0  \n",
      "...           ...   ...     ...  ...         ...       ...          ...    ...  \n",
      "1274           65    99      84   78          88         0            1      0  \n",
      "1275           58    42      46   31          34         1            0      0  \n",
      "1276           31    33      36   44          38         1            0      0  \n",
      "1277          100   100     100  100          98         1            0      0  \n",
      "1278           68    47      57   33          47         0            0      1  \n",
      "\n",
      "[1279 rows x 20 columns]\n",
      "[[ 0.05968088]\n",
      " [ 0.59433374]\n",
      " [ 0.6065026 ]\n",
      " [ 0.61976209]\n",
      " [ 0.62287603]\n",
      " [ 0.64237778]\n",
      " [ 0.63886688]\n",
      " [ 0.61371733]\n",
      " [ 0.65875031]\n",
      " [ 0.58599527]\n",
      " [ 0.60002177]\n",
      " [ 0.6016423 ]\n",
      " [ 0.59762295]\n",
      " [ 0.62177139]\n",
      " [ 0.60757451]\n",
      " [ 0.59688019]\n",
      " [ 0.62574543]\n",
      " [ 0.03025961]\n",
      " [-0.09314181]\n",
      " [ 0.05968088]]\n",
      "[[17  0 19 18  9  1 15 12 10 11  2 14  7  3 13  4 16  6  5  8]]\n",
      "северный\n",
      "Алгебра\n",
      "южный\n",
      "центральный\n",
      "Обществознание\n",
      "Геометрия\n",
      "ИЗО\n",
      "Физкультура\n",
      "Русский\n",
      "Литература\n",
      "Информатика\n",
      "Музыка\n",
      "Физика\n",
      "История\n",
      "Труд\n",
      "География\n",
      "Английский\n",
      "Биология\n",
      "Экономика\n",
      "Химия\n"
     ]
    }
   ],
   "source": [
    "data = pd.read_csv('Вячеслав_Сергеевич_Денисов.csv')\n",
    "\n",
    "# Add dummies for regression\n",
    "dummies = pd.get_dummies(data[\"Регион\"])\n",
    "data1 = data.join(dummies)\n",
    "\n",
    "data.drop('Unnamed: 0', axis=1, inplace=True)\n",
    "data1.drop('Unnamed: 0', axis=1, inplace=True)\n",
    "data1.drop('Зарплата', axis=1, inplace=True)\n",
    "data1.drop('Регион', axis=1, inplace=True)\n",
    "\n",
    "print(data1)\n",
    "list = data1.columns.tolist()\n",
    "salary = data['Зарплата'].to_numpy()\n",
    "#print(salary)\n",
    "\n",
    "correl = np.ndarray(shape = (len(list),1), dtype=float)\n",
    "\n",
    "for i in range (0,len(list)):\n",
    "    b = data1[list[i]].to_numpy()\n",
    "    correl[[i,0]] = np.corrcoef(salary, b)[1][0]\n",
    "    \n",
    "print(correl)\n",
    "Rsquare = correl**2\n",
    "pos = np.linspace(0,len(list))\n",
    "pos = np.argsort(Rsquare,axis=0)\n",
    "print(np.transpose(pos))\n",
    "for i in range (0,len(list)):\n",
    "    print(list[pos[i][0]])\n"
   ]
  },
  {
   "cell_type": "code",
   "execution_count": 185,
   "id": "healthy-husband",
   "metadata": {},
   "outputs": [
    {
     "name": "stdout",
     "output_type": "stream",
     "text": [
      "[1903.60498808  246.34234865 2328.22808839]\n",
      "20316.14510724017\n"
     ]
    }
   ],
   "source": [
    "regr = linear_model.LinearRegression()\n",
    "regr.fit(data1[[list[pos[0][0]], list[pos[1][0]], list[pos[2][0]]]], data[\"Зарплата\"])\n",
    "\n",
    "print(regr.coef_) # b_1, ..., b_n\n",
    "print(regr.intercept_)"
   ]
  },
  {
   "cell_type": "code",
   "execution_count": null,
   "id": "german-activation",
   "metadata": {},
   "outputs": [],
   "source": []
  }
 ],
 "metadata": {
  "kernelspec": {
   "display_name": "Python 3",
   "language": "python",
   "name": "python3"
  },
  "language_info": {
   "codemirror_mode": {
    "name": "ipython",
    "version": 3
   },
   "file_extension": ".py",
   "mimetype": "text/x-python",
   "name": "python",
   "nbconvert_exporter": "python",
   "pygments_lexer": "ipython3",
   "version": "3.8.3"
  }
 },
 "nbformat": 4,
 "nbformat_minor": 5
}
